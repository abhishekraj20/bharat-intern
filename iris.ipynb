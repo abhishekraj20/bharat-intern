{
  "nbformat": 4,
  "nbformat_minor": 0,
  "metadata": {
    "colab": {
      "provenance": [],
      "gpuType": "T4"
    },
    "kernelspec": {
      "name": "python3",
      "display_name": "Python 3"
    },
    "language_info": {
      "name": "python"
    },
    "accelerator": "GPU"
  },
  "cells": [
    {
      "cell_type": "code",
      "execution_count": null,
      "metadata": {
        "id": "5J1RErFr2Qd-"
      },
      "outputs": [],
      "source": []
    },
    {
      "cell_type": "code",
      "source": [
        "import pandas as pd\n",
        "import numpy as np\n",
        "from sklearn.preprocessing import LabelEncoder, MinMaxScaler\n",
        "from sklearn.model_selection import train_test_split\n",
        "import tensorflow.keras as keras\n",
        "from tensorflow.keras.models import Sequential\n",
        "from tensorflow.keras.layers import Dense, Dropout"
      ],
      "metadata": {
        "id": "OmSRuXxj3CAm"
      },
      "execution_count": 3,
      "outputs": []
    },
    {
      "cell_type": "code",
      "source": [
        "#Read the dataset file\n",
        "data = pd.read_csv('/content/Iris.csv', index_col = 0)"
      ],
      "metadata": {
        "id": "AiRt6Smc4yIv"
      },
      "execution_count": 9,
      "outputs": []
    },
    {
      "cell_type": "code",
      "source": [
        "#Display the first five rows of the dataframe\n",
        "print(data.head())"
      ],
      "metadata": {
        "colab": {
          "base_uri": "https://localhost:8080/"
        },
        "id": "N9gVGINl5G8z",
        "outputId": "ae2c6a14-9c7d-456e-e00d-8702e06935a7"
      },
      "execution_count": 12,
      "outputs": [
        {
          "output_type": "stream",
          "name": "stdout",
          "text": [
            "    SepalLengthCm  SepalWidthCm  PetalLengthCm  PetalWidthCm      Species\n",
            "Id                                                                       \n",
            "1             5.1           3.5            1.4           0.2  Iris-setosa\n",
            "2             4.9           3.0            1.4           0.2  Iris-setosa\n",
            "3             4.7           3.2            1.3           0.2  Iris-setosa\n",
            "4             4.6           3.1            1.5           0.2  Iris-setosa\n",
            "5             5.0           3.6            1.4           0.2  Iris-setosa\n"
          ]
        }
      ]
    },
    {
      "cell_type": "code",
      "source": [
        "#Displaying the information of the dataframe\n",
        "print(data.info())"
      ],
      "metadata": {
        "colab": {
          "base_uri": "https://localhost:8080/"
        },
        "id": "ErHkIx6v5LKY",
        "outputId": "62fd8027-1293-4558-f5d9-4d9ba566ccd8"
      },
      "execution_count": 13,
      "outputs": [
        {
          "output_type": "stream",
          "name": "stdout",
          "text": [
            "<class 'pandas.core.frame.DataFrame'>\n",
            "Int64Index: 150 entries, 1 to 150\n",
            "Data columns (total 5 columns):\n",
            " #   Column         Non-Null Count  Dtype  \n",
            "---  ------         --------------  -----  \n",
            " 0   SepalLengthCm  150 non-null    float64\n",
            " 1   SepalWidthCm   150 non-null    float64\n",
            " 2   PetalLengthCm  150 non-null    float64\n",
            " 3   PetalWidthCm   150 non-null    float64\n",
            " 4   Species        150 non-null    object \n",
            "dtypes: float64(4), object(1)\n",
            "memory usage: 7.0+ KB\n",
            "None\n"
          ]
        }
      ]
    },
    {
      "cell_type": "code",
      "source": [],
      "metadata": {
        "id": "yI8qExhF5gTt"
      },
      "execution_count": null,
      "outputs": []
    },
    {
      "cell_type": "code",
      "source": [
        "print(data.shape)"
      ],
      "metadata": {
        "colab": {
          "base_uri": "https://localhost:8080/"
        },
        "id": "kA1xk9Gw5Okr",
        "outputId": "43ac7e4d-3a55-4742-bc60-e8e430c46ffa"
      },
      "execution_count": 11,
      "outputs": [
        {
          "output_type": "stream",
          "name": "stdout",
          "text": [
            "(150, 5)\n"
          ]
        }
      ]
    },
    {
      "cell_type": "code",
      "source": [
        "# check there is no null values and check for missing values\n",
        "print(data.isna().sum())"
      ],
      "metadata": {
        "id": "p9rw9xIK5h7G",
        "outputId": "9045dd34-1941-4763-b020-8a48af14ed66",
        "colab": {
          "base_uri": "https://localhost:8080/"
        }
      },
      "execution_count": 14,
      "outputs": [
        {
          "output_type": "stream",
          "name": "stdout",
          "text": [
            "SepalLengthCm    0\n",
            "SepalWidthCm     0\n",
            "PetalLengthCm    0\n",
            "PetalWidthCm     0\n",
            "Species          0\n",
            "dtype: int64\n"
          ]
        }
      ]
    },
    {
      "cell_type": "code",
      "source": [
        "\n",
        "\n",
        "\n",
        "#Check for duplicates\n",
        "print(data.duplicated(keep = False).value_counts())\n",
        "print(data[data.duplicated(keep = False)])"
      ],
      "metadata": {
        "id": "-DTtndsI5lcB",
        "outputId": "3a46470e-e816-41bb-c595-3f8d5af63161",
        "colab": {
          "base_uri": "https://localhost:8080/"
        }
      },
      "execution_count": 15,
      "outputs": [
        {
          "output_type": "stream",
          "name": "stdout",
          "text": [
            "False    145\n",
            "True       5\n",
            "dtype: int64\n",
            "     SepalLengthCm  SepalWidthCm  PetalLengthCm  PetalWidthCm         Species\n",
            "Id                                                                           \n",
            "10             4.9           3.1            1.5           0.1     Iris-setosa\n",
            "35             4.9           3.1            1.5           0.1     Iris-setosa\n",
            "38             4.9           3.1            1.5           0.1     Iris-setosa\n",
            "102            5.8           2.7            5.1           1.9  Iris-virginica\n",
            "143            5.8           2.7            5.1           1.9  Iris-virginica\n"
          ]
        }
      ]
    },
    {
      "cell_type": "code",
      "source": [
        "#Drop duplicates\n",
        "data = data.drop_duplicates(keep = 'first').copy()\n",
        "print(data.shape)"
      ],
      "metadata": {
        "id": "ygvztpDO5pYX",
        "outputId": "9cf16f66-2136-4b77-ca4a-c22d9532a245",
        "colab": {
          "base_uri": "https://localhost:8080/"
        }
      },
      "execution_count": 16,
      "outputs": [
        {
          "output_type": "stream",
          "name": "stdout",
          "text": [
            "(147, 5)\n"
          ]
        }
      ]
    },
    {
      "cell_type": "code",
      "source": [
        "#Reset the index of the dataframe\n",
        "\n",
        "data = data.reset_index(drop = True)"
      ],
      "metadata": {
        "id": "kB_y_TRL5_WC"
      },
      "execution_count": 18,
      "outputs": []
    },
    {
      "cell_type": "code",
      "source": [
        "#Split the dataframe into X(features) and y(target or labels)\n",
        "X = data.iloc[:, 0:4].values\n",
        "y = data['Species'].values"
      ],
      "metadata": {
        "id": "UljF0vQ76SW-"
      },
      "execution_count": 19,
      "outputs": []
    },
    {
      "cell_type": "code",
      "source": [
        "print(X.shape)\n",
        "print(y.shape)"
      ],
      "metadata": {
        "id": "NRlVI5dj6W3N",
        "outputId": "40e10ceb-4368-4bb3-ed77-421765950da6",
        "colab": {
          "base_uri": "https://localhost:8080/"
        }
      },
      "execution_count": 20,
      "outputs": [
        {
          "output_type": "stream",
          "name": "stdout",
          "text": [
            "(147, 4)\n",
            "(147,)\n"
          ]
        }
      ]
    },
    {
      "cell_type": "code",
      "source": [
        "#Normalization on X\n",
        "scaler = MinMaxScaler()\n",
        "scaler.fit(X)\n",
        "X_scaled = scaler.fit_transform(X)\n"
      ],
      "metadata": {
        "id": "UlkzVgEm6ahl"
      },
      "execution_count": 21,
      "outputs": []
    },
    {
      "cell_type": "code",
      "source": [
        "#Convert target using LabelEncoder\n",
        "encoder = LabelEncoder()\n",
        "y_encoded = encoder.fit_transform(y)"
      ],
      "metadata": {
        "id": "coBNcdm66fg8"
      },
      "execution_count": 22,
      "outputs": []
    },
    {
      "cell_type": "code",
      "source": [
        "#Categorically encoding the labels\n",
        "\n",
        "num_categories = 3\n",
        "y_onehot = keras.utils.to_categorical(y_encoded, num_categories)"
      ],
      "metadata": {
        "id": "3o0NJilg6jqY"
      },
      "execution_count": 23,
      "outputs": []
    },
    {
      "cell_type": "code",
      "source": [
        "#convert X_scaled and y_onehot into train and valid data\n",
        "\n",
        "X_train, X_valid, y_train, y_valid = train_test_split(X_scaled, y_onehot,\n",
        "                                                     test_size = 0.2,\n",
        "                                                     random_state = 42)"
      ],
      "metadata": {
        "id": "K99ouJKV6kHS"
      },
      "execution_count": 24,
      "outputs": []
    },
    {
      "cell_type": "code",
      "source": [
        "#Define a model\n",
        "\n",
        "model = Sequential()\n",
        "model.add(Dense(units = 512, activation = 'relu', input_shape = (4,)))\n",
        "model.add(Dense(units = 512, activation = 'relu'))\n",
        "model.add(Dense(units = 512, activation = 'relu'))\n",
        "model.add(Dropout(0.2))\n",
        "model.add(Dense(units = num_categories, activation = 'softmax'))"
      ],
      "metadata": {
        "id": "iGZw3d9X6njm"
      },
      "execution_count": 25,
      "outputs": []
    },
    {
      "cell_type": "code",
      "source": [
        "model.summary()"
      ],
      "metadata": {
        "id": "TR36PXCZ6stQ",
        "outputId": "5821d8cf-883c-4383-d8fc-3f795e45edad",
        "colab": {
          "base_uri": "https://localhost:8080/"
        }
      },
      "execution_count": 26,
      "outputs": [
        {
          "output_type": "stream",
          "name": "stdout",
          "text": [
            "Model: \"sequential\"\n",
            "_________________________________________________________________\n",
            " Layer (type)                Output Shape              Param #   \n",
            "=================================================================\n",
            " dense (Dense)               (None, 512)               2560      \n",
            "                                                                 \n",
            " dense_1 (Dense)             (None, 512)               262656    \n",
            "                                                                 \n",
            " dense_2 (Dense)             (None, 512)               262656    \n",
            "                                                                 \n",
            " dropout (Dropout)           (None, 512)               0         \n",
            "                                                                 \n",
            " dense_3 (Dense)             (None, 3)                 1539      \n",
            "                                                                 \n",
            "=================================================================\n",
            "Total params: 529411 (2.02 MB)\n",
            "Trainable params: 529411 (2.02 MB)\n",
            "Non-trainable params: 0 (0.00 Byte)\n",
            "_________________________________________________________________\n"
          ]
        }
      ]
    },
    {
      "cell_type": "code",
      "source": [
        "#Compiling the model\n",
        "\n",
        "model.compile(loss = 'categorical_crossentropy', metrics = ['accuracy'])"
      ],
      "metadata": {
        "id": "LVgxfO4K62sY"
      },
      "execution_count": 27,
      "outputs": []
    },
    {
      "cell_type": "code",
      "source": [
        "history=model.fit(X_train, y_train,\n",
        "          epochs = 100,\n",
        "          verbose = 1,\n",
        "          validation_data = (X_valid, y_valid))"
      ],
      "metadata": {
        "id": "Z_EHeHSY63RI",
        "outputId": "d99ff6b8-a157-416a-e399-d9de9411986a",
        "colab": {
          "base_uri": "https://localhost:8080/"
        }
      },
      "execution_count": 28,
      "outputs": [
        {
          "output_type": "stream",
          "name": "stdout",
          "text": [
            "Epoch 1/100\n",
            "4/4 [==============================] - 3s 73ms/step - loss: 1.0307 - accuracy: 0.3846 - val_loss: 0.8658 - val_accuracy: 0.7000\n",
            "Epoch 2/100\n",
            "4/4 [==============================] - 0s 11ms/step - loss: 0.7655 - accuracy: 0.6325 - val_loss: 0.5830 - val_accuracy: 0.6667\n",
            "Epoch 3/100\n",
            "4/4 [==============================] - 0s 11ms/step - loss: 0.5789 - accuracy: 0.6068 - val_loss: 0.4699 - val_accuracy: 0.9000\n",
            "Epoch 4/100\n",
            "4/4 [==============================] - 0s 11ms/step - loss: 0.5053 - accuracy: 0.7778 - val_loss: 0.4813 - val_accuracy: 0.6667\n",
            "Epoch 5/100\n",
            "4/4 [==============================] - 0s 11ms/step - loss: 0.5047 - accuracy: 0.6923 - val_loss: 0.4080 - val_accuracy: 0.8333\n",
            "Epoch 6/100\n",
            "4/4 [==============================] - 0s 11ms/step - loss: 0.4380 - accuracy: 0.8120 - val_loss: 0.4040 - val_accuracy: 0.7333\n",
            "Epoch 7/100\n",
            "4/4 [==============================] - 0s 11ms/step - loss: 0.3961 - accuracy: 0.8205 - val_loss: 0.3554 - val_accuracy: 0.8667\n",
            "Epoch 8/100\n",
            "4/4 [==============================] - 0s 14ms/step - loss: 0.4488 - accuracy: 0.7692 - val_loss: 0.4542 - val_accuracy: 0.6667\n",
            "Epoch 9/100\n",
            "4/4 [==============================] - 0s 12ms/step - loss: 0.3618 - accuracy: 0.8291 - val_loss: 0.3984 - val_accuracy: 0.7333\n",
            "Epoch 10/100\n",
            "4/4 [==============================] - 0s 11ms/step - loss: 0.2940 - accuracy: 0.8803 - val_loss: 0.2926 - val_accuracy: 0.8667\n",
            "Epoch 11/100\n",
            "4/4 [==============================] - 0s 11ms/step - loss: 0.2653 - accuracy: 0.9316 - val_loss: 0.4760 - val_accuracy: 0.7333\n",
            "Epoch 12/100\n",
            "4/4 [==============================] - 0s 12ms/step - loss: 0.4519 - accuracy: 0.7265 - val_loss: 0.3098 - val_accuracy: 0.8667\n",
            "Epoch 13/100\n",
            "4/4 [==============================] - 0s 13ms/step - loss: 0.2319 - accuracy: 0.9316 - val_loss: 0.4320 - val_accuracy: 0.7333\n",
            "Epoch 14/100\n",
            "4/4 [==============================] - 0s 11ms/step - loss: 0.2348 - accuracy: 0.8974 - val_loss: 0.2922 - val_accuracy: 0.9000\n",
            "Epoch 15/100\n",
            "4/4 [==============================] - 0s 12ms/step - loss: 0.1962 - accuracy: 0.9316 - val_loss: 0.2279 - val_accuracy: 0.9000\n",
            "Epoch 16/100\n",
            "4/4 [==============================] - 0s 12ms/step - loss: 0.1770 - accuracy: 0.9487 - val_loss: 0.5540 - val_accuracy: 0.7667\n",
            "Epoch 17/100\n",
            "4/4 [==============================] - 0s 12ms/step - loss: 0.2281 - accuracy: 0.9231 - val_loss: 0.4073 - val_accuracy: 0.8333\n",
            "Epoch 18/100\n",
            "4/4 [==============================] - 0s 11ms/step - loss: 0.3766 - accuracy: 0.8034 - val_loss: 0.2486 - val_accuracy: 0.9000\n",
            "Epoch 19/100\n",
            "4/4 [==============================] - 0s 11ms/step - loss: 0.1752 - accuracy: 0.9402 - val_loss: 0.1987 - val_accuracy: 0.9000\n",
            "Epoch 20/100\n",
            "4/4 [==============================] - 0s 11ms/step - loss: 0.1449 - accuracy: 0.9487 - val_loss: 0.3151 - val_accuracy: 0.8667\n",
            "Epoch 21/100\n",
            "4/4 [==============================] - 0s 11ms/step - loss: 0.1440 - accuracy: 0.9573 - val_loss: 0.2442 - val_accuracy: 0.9000\n",
            "Epoch 22/100\n",
            "4/4 [==============================] - 0s 12ms/step - loss: 0.2771 - accuracy: 0.8547 - val_loss: 0.1876 - val_accuracy: 0.9333\n",
            "Epoch 23/100\n",
            "4/4 [==============================] - 0s 11ms/step - loss: 0.1182 - accuracy: 0.9487 - val_loss: 0.3257 - val_accuracy: 0.8667\n",
            "Epoch 24/100\n",
            "4/4 [==============================] - 0s 11ms/step - loss: 0.2122 - accuracy: 0.9145 - val_loss: 0.2276 - val_accuracy: 0.9000\n",
            "Epoch 25/100\n",
            "4/4 [==============================] - 0s 13ms/step - loss: 0.1823 - accuracy: 0.9231 - val_loss: 0.2524 - val_accuracy: 0.9000\n",
            "Epoch 26/100\n",
            "4/4 [==============================] - 0s 13ms/step - loss: 0.1280 - accuracy: 0.9487 - val_loss: 0.2357 - val_accuracy: 0.8667\n",
            "Epoch 27/100\n",
            "4/4 [==============================] - 0s 11ms/step - loss: 0.1777 - accuracy: 0.9231 - val_loss: 0.1689 - val_accuracy: 0.9000\n",
            "Epoch 28/100\n",
            "4/4 [==============================] - 0s 11ms/step - loss: 0.1844 - accuracy: 0.9145 - val_loss: 0.3116 - val_accuracy: 0.8667\n",
            "Epoch 29/100\n",
            "4/4 [==============================] - 0s 12ms/step - loss: 0.1165 - accuracy: 0.9658 - val_loss: 0.2217 - val_accuracy: 0.9333\n",
            "Epoch 30/100\n",
            "4/4 [==============================] - 0s 17ms/step - loss: 0.0842 - accuracy: 0.9658 - val_loss: 0.2549 - val_accuracy: 0.9000\n",
            "Epoch 31/100\n",
            "4/4 [==============================] - 0s 12ms/step - loss: 0.1701 - accuracy: 0.9402 - val_loss: 0.2024 - val_accuracy: 0.9333\n",
            "Epoch 32/100\n",
            "4/4 [==============================] - 0s 11ms/step - loss: 0.1214 - accuracy: 0.9573 - val_loss: 0.1532 - val_accuracy: 0.9333\n",
            "Epoch 33/100\n",
            "4/4 [==============================] - 0s 13ms/step - loss: 0.0793 - accuracy: 0.9658 - val_loss: 0.2104 - val_accuracy: 0.9000\n",
            "Epoch 34/100\n",
            "4/4 [==============================] - 0s 12ms/step - loss: 0.1527 - accuracy: 0.9231 - val_loss: 0.2008 - val_accuracy: 0.8667\n",
            "Epoch 35/100\n",
            "4/4 [==============================] - 0s 15ms/step - loss: 0.1089 - accuracy: 0.9658 - val_loss: 0.2273 - val_accuracy: 0.9333\n",
            "Epoch 36/100\n",
            "4/4 [==============================] - 0s 14ms/step - loss: 0.0808 - accuracy: 0.9829 - val_loss: 0.1711 - val_accuracy: 0.9000\n",
            "Epoch 37/100\n",
            "4/4 [==============================] - 0s 13ms/step - loss: 0.1591 - accuracy: 0.9402 - val_loss: 0.2323 - val_accuracy: 0.9333\n",
            "Epoch 38/100\n",
            "4/4 [==============================] - 0s 13ms/step - loss: 0.1018 - accuracy: 0.9487 - val_loss: 0.1493 - val_accuracy: 0.9333\n",
            "Epoch 39/100\n",
            "4/4 [==============================] - 0s 11ms/step - loss: 0.1107 - accuracy: 0.9402 - val_loss: 0.4760 - val_accuracy: 0.8000\n",
            "Epoch 40/100\n",
            "4/4 [==============================] - 0s 17ms/step - loss: 0.1863 - accuracy: 0.9231 - val_loss: 0.2017 - val_accuracy: 0.9333\n",
            "Epoch 41/100\n",
            "4/4 [==============================] - 0s 12ms/step - loss: 0.0712 - accuracy: 0.9829 - val_loss: 0.1535 - val_accuracy: 0.9333\n",
            "Epoch 42/100\n",
            "4/4 [==============================] - 0s 12ms/step - loss: 0.0581 - accuracy: 0.9744 - val_loss: 0.2090 - val_accuracy: 0.9333\n",
            "Epoch 43/100\n",
            "4/4 [==============================] - 0s 13ms/step - loss: 0.1657 - accuracy: 0.9316 - val_loss: 0.1354 - val_accuracy: 0.9000\n",
            "Epoch 44/100\n",
            "4/4 [==============================] - 0s 11ms/step - loss: 0.0638 - accuracy: 0.9658 - val_loss: 0.1573 - val_accuracy: 0.9333\n",
            "Epoch 45/100\n",
            "4/4 [==============================] - 0s 11ms/step - loss: 0.0519 - accuracy: 0.9829 - val_loss: 0.2030 - val_accuracy: 0.9333\n",
            "Epoch 46/100\n",
            "4/4 [==============================] - 0s 14ms/step - loss: 0.2139 - accuracy: 0.9060 - val_loss: 0.1673 - val_accuracy: 0.9333\n",
            "Epoch 47/100\n",
            "4/4 [==============================] - 0s 12ms/step - loss: 0.0568 - accuracy: 0.9829 - val_loss: 0.1700 - val_accuracy: 0.9000\n",
            "Epoch 48/100\n",
            "4/4 [==============================] - 0s 12ms/step - loss: 0.0909 - accuracy: 0.9658 - val_loss: 0.1349 - val_accuracy: 0.9333\n",
            "Epoch 49/100\n",
            "4/4 [==============================] - 0s 11ms/step - loss: 0.0505 - accuracy: 0.9744 - val_loss: 0.1249 - val_accuracy: 0.9333\n",
            "Epoch 50/100\n",
            "4/4 [==============================] - 0s 12ms/step - loss: 0.1566 - accuracy: 0.9316 - val_loss: 0.3025 - val_accuracy: 0.9000\n",
            "Epoch 51/100\n",
            "4/4 [==============================] - 0s 13ms/step - loss: 0.1043 - accuracy: 0.9573 - val_loss: 0.1211 - val_accuracy: 0.9000\n",
            "Epoch 52/100\n",
            "4/4 [==============================] - 0s 16ms/step - loss: 0.1054 - accuracy: 0.9573 - val_loss: 0.1969 - val_accuracy: 0.9333\n",
            "Epoch 53/100\n",
            "4/4 [==============================] - 0s 13ms/step - loss: 0.0653 - accuracy: 0.9658 - val_loss: 0.1838 - val_accuracy: 0.9333\n",
            "Epoch 54/100\n",
            "4/4 [==============================] - 0s 12ms/step - loss: 0.1701 - accuracy: 0.9145 - val_loss: 0.1268 - val_accuracy: 0.9333\n",
            "Epoch 55/100\n",
            "4/4 [==============================] - 0s 20ms/step - loss: 0.0572 - accuracy: 0.9829 - val_loss: 0.1465 - val_accuracy: 0.9333\n",
            "Epoch 56/100\n",
            "4/4 [==============================] - 0s 19ms/step - loss: 0.0567 - accuracy: 0.9744 - val_loss: 0.1307 - val_accuracy: 0.9333\n",
            "Epoch 57/100\n",
            "4/4 [==============================] - 0s 23ms/step - loss: 0.0542 - accuracy: 0.9744 - val_loss: 0.1736 - val_accuracy: 0.9333\n",
            "Epoch 58/100\n",
            "4/4 [==============================] - 0s 19ms/step - loss: 0.0964 - accuracy: 0.9573 - val_loss: 0.1352 - val_accuracy: 0.9333\n",
            "Epoch 59/100\n",
            "4/4 [==============================] - 0s 18ms/step - loss: 0.0747 - accuracy: 0.9573 - val_loss: 0.1176 - val_accuracy: 0.9333\n",
            "Epoch 60/100\n",
            "4/4 [==============================] - 0s 21ms/step - loss: 0.0710 - accuracy: 0.9744 - val_loss: 0.3177 - val_accuracy: 0.9000\n",
            "Epoch 61/100\n",
            "4/4 [==============================] - 0s 16ms/step - loss: 0.1021 - accuracy: 0.9658 - val_loss: 0.1146 - val_accuracy: 0.9000\n",
            "Epoch 62/100\n",
            "4/4 [==============================] - 0s 20ms/step - loss: 0.0438 - accuracy: 0.9915 - val_loss: 0.2578 - val_accuracy: 0.9333\n",
            "Epoch 63/100\n",
            "4/4 [==============================] - 0s 18ms/step - loss: 0.0700 - accuracy: 0.9658 - val_loss: 0.1277 - val_accuracy: 0.9333\n",
            "Epoch 64/100\n",
            "4/4 [==============================] - 0s 15ms/step - loss: 0.0581 - accuracy: 0.9744 - val_loss: 0.0996 - val_accuracy: 0.9333\n",
            "Epoch 65/100\n",
            "4/4 [==============================] - 0s 17ms/step - loss: 0.0440 - accuracy: 0.9829 - val_loss: 0.1304 - val_accuracy: 0.9333\n",
            "Epoch 66/100\n",
            "4/4 [==============================] - 0s 16ms/step - loss: 0.2905 - accuracy: 0.8462 - val_loss: 0.1105 - val_accuracy: 0.9333\n",
            "Epoch 67/100\n",
            "4/4 [==============================] - 0s 22ms/step - loss: 0.0429 - accuracy: 0.9829 - val_loss: 0.1241 - val_accuracy: 0.9333\n",
            "Epoch 68/100\n",
            "4/4 [==============================] - 0s 15ms/step - loss: 0.0418 - accuracy: 0.9744 - val_loss: 0.2324 - val_accuracy: 0.9333\n",
            "Epoch 69/100\n",
            "4/4 [==============================] - 0s 17ms/step - loss: 0.0586 - accuracy: 0.9744 - val_loss: 0.1614 - val_accuracy: 0.9333\n",
            "Epoch 70/100\n",
            "4/4 [==============================] - 0s 15ms/step - loss: 0.0599 - accuracy: 0.9829 - val_loss: 0.4496 - val_accuracy: 0.8000\n",
            "Epoch 71/100\n",
            "4/4 [==============================] - 0s 17ms/step - loss: 0.1234 - accuracy: 0.9573 - val_loss: 0.2540 - val_accuracy: 0.9333\n",
            "Epoch 72/100\n",
            "4/4 [==============================] - 0s 23ms/step - loss: 0.0600 - accuracy: 0.9829 - val_loss: 0.1259 - val_accuracy: 0.9333\n",
            "Epoch 73/100\n",
            "4/4 [==============================] - 0s 22ms/step - loss: 0.0374 - accuracy: 0.9744 - val_loss: 0.1866 - val_accuracy: 0.9333\n",
            "Epoch 74/100\n",
            "4/4 [==============================] - 0s 20ms/step - loss: 0.0522 - accuracy: 0.9658 - val_loss: 0.1459 - val_accuracy: 0.9000\n",
            "Epoch 75/100\n",
            "4/4 [==============================] - 0s 17ms/step - loss: 0.0999 - accuracy: 0.9487 - val_loss: 0.2970 - val_accuracy: 0.9000\n",
            "Epoch 76/100\n",
            "4/4 [==============================] - 0s 16ms/step - loss: 0.1145 - accuracy: 0.9658 - val_loss: 0.1061 - val_accuracy: 0.9667\n",
            "Epoch 77/100\n",
            "4/4 [==============================] - 0s 20ms/step - loss: 0.0859 - accuracy: 0.9658 - val_loss: 0.1153 - val_accuracy: 0.9333\n",
            "Epoch 78/100\n",
            "4/4 [==============================] - 0s 20ms/step - loss: 0.0341 - accuracy: 0.9829 - val_loss: 0.2103 - val_accuracy: 0.9333\n",
            "Epoch 79/100\n",
            "4/4 [==============================] - 0s 17ms/step - loss: 0.0410 - accuracy: 0.9829 - val_loss: 0.2319 - val_accuracy: 0.9333\n",
            "Epoch 80/100\n",
            "4/4 [==============================] - 0s 21ms/step - loss: 0.0485 - accuracy: 0.9744 - val_loss: 0.2070 - val_accuracy: 0.9333\n",
            "Epoch 81/100\n",
            "4/4 [==============================] - 0s 16ms/step - loss: 0.0331 - accuracy: 0.9829 - val_loss: 0.1053 - val_accuracy: 0.9667\n",
            "Epoch 82/100\n",
            "4/4 [==============================] - 0s 20ms/step - loss: 0.1747 - accuracy: 0.9402 - val_loss: 0.1877 - val_accuracy: 0.9333\n",
            "Epoch 83/100\n",
            "4/4 [==============================] - 0s 16ms/step - loss: 0.0372 - accuracy: 0.9915 - val_loss: 0.1147 - val_accuracy: 0.9333\n",
            "Epoch 84/100\n",
            "4/4 [==============================] - 0s 22ms/step - loss: 0.0501 - accuracy: 0.9829 - val_loss: 0.1636 - val_accuracy: 0.9000\n",
            "Epoch 85/100\n",
            "4/4 [==============================] - 0s 16ms/step - loss: 0.0597 - accuracy: 0.9744 - val_loss: 0.1028 - val_accuracy: 0.9333\n",
            "Epoch 86/100\n",
            "4/4 [==============================] - 0s 13ms/step - loss: 0.0785 - accuracy: 0.9658 - val_loss: 0.1541 - val_accuracy: 0.9333\n",
            "Epoch 87/100\n",
            "4/4 [==============================] - 0s 12ms/step - loss: 0.0513 - accuracy: 0.9829 - val_loss: 0.1187 - val_accuracy: 0.9333\n",
            "Epoch 88/100\n",
            "4/4 [==============================] - 0s 11ms/step - loss: 0.0359 - accuracy: 0.9915 - val_loss: 0.0867 - val_accuracy: 0.9667\n",
            "Epoch 89/100\n",
            "4/4 [==============================] - 0s 11ms/step - loss: 0.0362 - accuracy: 0.9829 - val_loss: 0.1498 - val_accuracy: 0.9333\n",
            "Epoch 90/100\n",
            "4/4 [==============================] - 0s 11ms/step - loss: 0.0923 - accuracy: 0.9658 - val_loss: 0.0941 - val_accuracy: 0.9667\n",
            "Epoch 91/100\n",
            "4/4 [==============================] - 0s 12ms/step - loss: 0.0507 - accuracy: 0.9829 - val_loss: 0.1371 - val_accuracy: 0.9333\n",
            "Epoch 92/100\n",
            "4/4 [==============================] - 0s 11ms/step - loss: 0.0836 - accuracy: 0.9487 - val_loss: 0.6164 - val_accuracy: 0.8000\n",
            "Epoch 93/100\n",
            "4/4 [==============================] - 0s 12ms/step - loss: 0.0812 - accuracy: 0.9487 - val_loss: 0.1737 - val_accuracy: 0.9333\n",
            "Epoch 94/100\n",
            "4/4 [==============================] - 0s 11ms/step - loss: 0.0454 - accuracy: 0.9744 - val_loss: 0.1215 - val_accuracy: 0.9667\n",
            "Epoch 95/100\n",
            "4/4 [==============================] - 0s 12ms/step - loss: 0.0523 - accuracy: 0.9744 - val_loss: 0.1125 - val_accuracy: 0.9667\n",
            "Epoch 96/100\n",
            "4/4 [==============================] - 0s 11ms/step - loss: 0.0660 - accuracy: 0.9573 - val_loss: 0.2226 - val_accuracy: 0.9333\n",
            "Epoch 97/100\n",
            "4/4 [==============================] - 0s 13ms/step - loss: 0.0571 - accuracy: 0.9573 - val_loss: 0.1752 - val_accuracy: 0.9333\n",
            "Epoch 98/100\n",
            "4/4 [==============================] - 0s 13ms/step - loss: 0.0361 - accuracy: 0.9915 - val_loss: 0.1098 - val_accuracy: 0.9667\n",
            "Epoch 99/100\n",
            "4/4 [==============================] - 0s 13ms/step - loss: 0.0375 - accuracy: 0.9829 - val_loss: 0.1060 - val_accuracy: 0.9667\n",
            "Epoch 100/100\n",
            "4/4 [==============================] - 0s 13ms/step - loss: 0.0452 - accuracy: 0.9829 - val_loss: 0.1721 - val_accuracy: 0.9333\n"
          ]
        }
      ]
    },
    {
      "cell_type": "code",
      "source": [
        "#Print actual and predicted value\n",
        "\n",
        "y_pred = model.predict(X_valid)\n",
        "\n",
        "actual = np.argmax(y_valid, axis = 1)\n",
        "predicted = np.argmax(y_pred, axis = 1)\n",
        "\n",
        "print(f\"Actual:    {actual}\")\n",
        "print(f\"Predicted: {predicted}\")\n",
        "\n"
      ],
      "metadata": {
        "id": "2Q-W3xhc667E",
        "outputId": "da8800b7-5283-4a40-85a9-6ea291ae2ff7",
        "colab": {
          "base_uri": "https://localhost:8080/"
        }
      },
      "execution_count": 29,
      "outputs": [
        {
          "output_type": "stream",
          "name": "stdout",
          "text": [
            "1/1 [==============================] - 0s 79ms/step\n",
            "Actual:    [2 1 2 0 2 0 1 0 1 0 0 1 2 1 2 1 0 1 2 0 0 2 0 2 1 0 1 2 1 0]\n",
            "Predicted: [2 1 2 0 2 0 1 0 2 0 0 1 2 1 2 2 0 1 2 0 0 2 0 2 1 0 1 2 1 0]\n"
          ]
        }
      ]
    },
    {
      "cell_type": "code",
      "source": [],
      "metadata": {
        "id": "RLlF7r2a7EcS"
      },
      "execution_count": null,
      "outputs": []
    }
  ]
}